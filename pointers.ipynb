{
 "cells": [
  {
   "cell_type": "markdown",
   "metadata": {},
   "source": [
    "# Pointers\n",
    "One of the biggest hurdles when transitioning from Python to Cython is the use of pointers in C code, which is necessary to write clean Cython programs.\n",
    "\n",
    "\n",
    "In C, every variable has a memory location and every memory location has a memory address that can be accessed using the `&` symbol."
   ]
  },
  {
   "cell_type": "code",
   "execution_count": 2,
   "metadata": {
    "collapsed": false
   },
   "outputs": [],
   "source": [
    "%load_ext Cython"
   ]
  },
  {
   "cell_type": "code",
   "execution_count": 3,
   "metadata": {
    "collapsed": false
   },
   "outputs": [
    {
     "name": "stderr",
     "output_type": "stream",
     "text": [
      "\n",
      "Error compiling Cython file:\n",
      "------------------------------------------------------------\n",
      "...\n",
      "# printf(\"Address of variable_2: %x\\n\", &variable_2);\n",
      "\n",
      "# this throws an error, is there any way I can fix this?\n",
      "cdef int variable_1 = 10\n",
      "cdef int variable_2 = 20\n",
      "print &variable_1\n",
      "     ^\n",
      "------------------------------------------------------------\n",
      "\n",
      "/Users/nelsonliu/.ipython/cython/_cython_magic_e74bf1eb9fd67c9f5ac2f4184431bed8.pyx:13:6: Cannot convert 'int *' to Python object\n",
      "\n",
      "Error compiling Cython file:\n",
      "------------------------------------------------------------\n",
      "...\n",
      "\n",
      "# this throws an error, is there any way I can fix this?\n",
      "cdef int variable_1 = 10\n",
      "cdef int variable_2 = 20\n",
      "print &variable_1\n",
      "print &variable_2\n",
      "     ^\n",
      "------------------------------------------------------------\n",
      "\n",
      "/Users/nelsonliu/.ipython/cython/_cython_magic_e74bf1eb9fd67c9f5ac2f4184431bed8.pyx:14:6: Cannot convert 'int *' to Python object\n"
     ]
    }
   ],
   "source": [
    "%%cython\n",
    "# from libc.stdio cimport printf\n",
    "\n",
    "# this works, but unfortunately prints to the command line and not the notebook\n",
    "# https://github.com/ipython/ipython/issues/1230\n",
    "# cdef int variable_1 = 10\n",
    "# cdef int variable_2 = 20\n",
    "# printf(\"Address of variable_1: %x\\n\", &variable_1);\n",
    "# printf(\"Address of variable_2: %x\\n\", &variable_2);\n",
    "\n",
    "# this throws an error, is there any way I can fix this?\n",
    "cdef int variable_1 = 10\n",
    "cdef int variable_2 = 20\n",
    "print &variable_1\n",
    "print &variable_2"
   ]
  },
  {
   "cell_type": "code",
   "execution_count": null,
   "metadata": {
    "collapsed": true
   },
   "outputs": [],
   "source": []
  }
 ],
 "metadata": {
  "kernelspec": {
   "display_name": "Python 2",
   "language": "python",
   "name": "python2"
  },
  "language_info": {
   "codemirror_mode": {
    "name": "ipython",
    "version": 2
   },
   "file_extension": ".py",
   "mimetype": "text/x-python",
   "name": "python",
   "nbconvert_exporter": "python",
   "pygments_lexer": "ipython2",
   "version": "2.7.10"
  }
 },
 "nbformat": 4,
 "nbformat_minor": 0
}
