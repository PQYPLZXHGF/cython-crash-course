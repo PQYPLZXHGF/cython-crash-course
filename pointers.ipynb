{
 "cells": [
  {
   "cell_type": "markdown",
   "metadata": {
    "ein.tags": [
     "worksheet-0"
    ]
   },
   "source": [
    "# Pointers\n",
    "One of the biggest hurdles when transitioning from Python to Cython is the use of pointers in C code, which is necessary to write clean Cython programs.\n",
    "\n",
    "\n",
    "In C, every variable has a memory location and every memory location has a memory address that can be accessed using the `&` symbol."
   ]
  },
  {
   "cell_type": "code",
   "execution_count": 2,
   "metadata": {
    "autoscroll": "json-false",
    "collapsed": false,
    "ein.tags": [
     "worksheet-0"
    ]
   },
   "outputs": [],
   "source": [
    "# enable Cython in the IPython Noteboook\n",
    "%load_ext Cython"
   ]
  },
  {
   "cell_type": "code",
   "execution_count": 3,
   "metadata": {
    "autoscroll": "json-false",
    "collapsed": false,
    "ein.tags": [
     "worksheet-0"
    ]
   },
   "outputs": [
    {
     "name": "stdout",
     "output_type": "stream",
     "text": [
      "0x3afb2e0\n",
      "0x3afb2e4\n"
     ]
    }
   ],
   "source": [
    "%%cython\n",
    "# from libc.stdio cimport printf\n",
    "\n",
    "# this works, but unfortunately prints to the command line and not the notebook\n",
    "# https://github.com/ipython/ipython/issues/1230\n",
    "# cdef int variable_1 = 10\n",
    "# cdef int variable_2 = 20\n",
    "# printf(\"Address of variable_1: %x\\n\", &variable_1);\n",
    "# printf(\"Address of variable_2: %x\\n\", &variable_2);\n",
    "\n",
    "# this throws an error, is there any way I can fix this?\n",
    "cdef int variable_1 = 10\n",
    "cdef int variable_2 = 20\n",
    "print hex(<unsigned>(&variable_1))\n",
    "print hex(<unsigned>(&variable_2))"
   ]
  },
  {
   "cell_type": "markdown",
   "metadata": {
    "ein.tags": [
     "worksheet-0"
    ]
   },
   "source": [
    "# So what exactly are pointers?\n",
    "A pointer is a variable whose value is the memory address of another variable. Changing the pointer changes the value at the memory address.\n",
    "\n",
    "To declare a pointer, use the following syntax:"
   ]
  },
  {
   "cell_type": "code",
   "execution_count": 4,
   "metadata": {
    "autoscroll": "json-false",
    "collapsed": false,
    "ein.tags": [
     "worksheet-0"
    ]
   },
   "outputs": [],
   "source": [
    "%%cython\n",
    "cdef int* integer_pointer # declares a pointer to an integer\n",
    "cdef double* double_pointer # declares a pointer to a double\n",
    "cdef float* float_pointer # declares a pointer to a float\n",
    "cdef char* char_pointer # declares a pointer to a char"
   ]
  },
  {
   "cell_type": "markdown",
   "metadata": {
    "ein.tags": [
     "worksheet-0"
    ]
   },
   "source": [
    "While these pointers all point to memory addresses, the variable or constant at the memory address the pointer is pointing to are all of different types."
   ]
  },
  {
   "cell_type": "markdown",
   "metadata": {
    "ein.tags": [
     "worksheet-0"
    ]
   },
   "source": [
    "# How do I use pointers?\n",
    "Pointers are generally used to modify the value of a variable or constant that it points to. In C, this is done through use of the `*` operator, which returns the value of the variable or constant specified by the pointer type. However, the `*` operator already has a meaning in Python -- unpacking tuples. As a result, assigning and accessing pointers uses an index notation similar to lists."
   ]
  },
  {
   "cell_type": "code",
   "execution_count": 5,
   "metadata": {
    "autoscroll": "json-false",
    "collapsed": false,
    "ein.tags": [
     "worksheet-0"
    ]
   },
   "outputs": [
    {
     "name": "stdout",
     "output_type": "stream",
     "text": [
      "Value of variable set to pointer: 1\n",
      "Value of original variable: 1\n",
      "Value of variable set to pointer: 2\n",
      "Value of original variable: 2\n"
     ]
    }
   ],
   "source": [
    "%%cython\n",
    "# define a variable to modify\n",
    "cdef int to_increment = 0\n",
    "# define an int pointer with the * operator\n",
    "cdef int* incrementor\n",
    "\n",
    "# store the address of the variable in the pointer\n",
    "incrementor = &to_increment\n",
    "\n",
    "# access the value at the pointer by using indexing notation and \n",
    "# increment the value the pointer points at.\n",
    "incrementor[0] += 1\n",
    "print \"Value of variable set to pointer: {}\".format(incrementor[0])\n",
    "print \"Value of original variable: {}\".format(to_increment)\n",
    "\n",
    "# increment the original variable\n",
    "to_increment += 1\n",
    "print \"Value of variable set to pointer: {}\".format(incrementor[0])\n",
    "print \"Value of original variable: {}\".format(to_increment)"
   ]
  },
  {
   "cell_type": "markdown",
   "metadata": {
    "ein.tags": [
     "worksheet-0"
    ]
   },
   "source": [
    "As you can see, modifying the value of what the pointer was pointing at (by adding one) changed the value of the original variable, and changes to the original variable propogated to affect the value that the pointer was pointing at."
   ]
  },
  {
   "cell_type": "markdown",
   "metadata": {
    "ein.tags": [
     "worksheet-0"
    ]
   },
   "source": [
    "# Difference between references and pointers\n",
    "A pointer is a variable that holds the memory address of some other unnamed or named target variable. On the other hand, a reference is a variable which \"refers to\" another unnamed or named variable.\n",
    "\n",
    "There are three differentiating characteristics that pointers have and references do not:\n",
    "- You can use pointer syntax to access the VALUES the pointer points to\n",
    "- You can change what the pointer points to\n",
    "- You can make the pointer point to null."
   ]
  },
  {
   "cell_type": "code",
   "execution_count": 0,
   "metadata": {
    "autoscroll": "json-false",
    "collapsed": false,
    "ein.tags": [
     "worksheet-0"
    ]
   },
   "outputs": [],
   "source": [
    "%%cython\n",
    "# define an integer\n",
    "cdef int some_value\n",
    "cdef int another_value\n",
    "\n",
    "# define an integer pointer and point it at some_value\n",
    "cdef int* int_pointer = &some_value\n",
    "# sets the value of what the pointer is pointing to to 10.\n",
    "# some_value should now have the value 42\n",
    "int_pointer[0] = 10\n",
    "print \"Value pointer points at: {}\".format(int_pointer[0])\n",
    "print \"Value of some_value: {}\".format(some_value)\n",
    "\n",
    "# you can also assign the pointer to a different variable\n",
    "int_pointer = &another_value\n",
    "print \"Value pointer points at: {}\".format(int_pointer[0])\n",
    "print \"Value of another_value: {}\".format(another_value)\n",
    "\n",
    "# lastly, you can set it to NULL if you wish\n",
    "int_pointer = NULL"
   ]
  },
  {
   "cell_type": "code",
   "execution_count": 0,
   "metadata": {
    "autoscroll": "json-false",
    "collapsed": false,
    "ein.tags": [
     "worksheet-0"
    ]
   },
   "outputs": [],
   "source": []
  }
 ],
 "metadata": {
  "kernelspec": {
   "display_name": "Python 2",
   "name": "python2"
  },
  "language_info": {
   "codemirror_mode": {
    "name": "ipython",
    "version": 2
   },
   "file_extension": ".py",
   "mimetype": "text/x-python",
   "name": "python",
   "nbconvert_exporter": "python",
   "pygments_lexer": "ipython2",
   "version": "2.7.10"
  },
  "name": "pointers.ipynb"
 },
 "nbformat": 4,
 "nbformat_minor": 0
}
