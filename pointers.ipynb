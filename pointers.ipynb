{
 "cells": [
  {
   "cell_type": "markdown",
   "metadata": {},
   "source": [
    "# Pointers\n",
    "One of the biggest hurdles when transitioning from Python to Cython is the use of pointers in C code, which is necessary to write clean Cython programs.\n",
    "\n",
    "\n",
    "In C, every variable has a memory location and every memory location has a memory address that can be accessed using the `&` symbol."
   ]
  },
  {
   "cell_type": "code",
   "execution_count": 1,
   "metadata": {
    "collapsed": false
   },
   "outputs": [],
   "source": [
    "# enable Cython in the IPython Noteboook\n",
    "%load_ext Cython"
   ]
  },
  {
   "cell_type": "code",
   "execution_count": 2,
   "metadata": {
    "collapsed": false
   },
   "outputs": [
    {
     "name": "stderr",
     "output_type": "stream",
     "text": [
      "\n",
      "Error compiling Cython file:\n",
      "------------------------------------------------------------\n",
      "...\n",
      "# printf(\"Address of variable_2: %x\\n\", &variable_2);\n",
      "\n",
      "# this throws an error, is there any way I can fix this?\n",
      "cdef int variable_1 = 10\n",
      "cdef int variable_2 = 20\n",
      "print &variable_1\n",
      "     ^\n",
      "------------------------------------------------------------\n",
      "\n",
      "/Users/nelsonliu/.ipython/cython/_cython_magic_e74bf1eb9fd67c9f5ac2f4184431bed8.pyx:13:6: Cannot convert 'int *' to Python object\n",
      "\n",
      "Error compiling Cython file:\n",
      "------------------------------------------------------------\n",
      "...\n",
      "\n",
      "# this throws an error, is there any way I can fix this?\n",
      "cdef int variable_1 = 10\n",
      "cdef int variable_2 = 20\n",
      "print &variable_1\n",
      "print &variable_2\n",
      "     ^\n",
      "------------------------------------------------------------\n",
      "\n",
      "/Users/nelsonliu/.ipython/cython/_cython_magic_e74bf1eb9fd67c9f5ac2f4184431bed8.pyx:14:6: Cannot convert 'int *' to Python object\n"
     ]
    }
   ],
   "source": [
    "%%cython\n",
    "# from libc.stdio cimport printf\n",
    "\n",
    "# this works, but unfortunately prints to the command line and not the notebook\n",
    "# https://github.com/ipython/ipython/issues/1230\n",
    "# cdef int variable_1 = 10\n",
    "# cdef int variable_2 = 20\n",
    "# printf(\"Address of variable_1: %x\\n\", &variable_1);\n",
    "# printf(\"Address of variable_2: %x\\n\", &variable_2);\n",
    "\n",
    "# this throws an error, is there any way I can fix this?\n",
    "cdef int variable_1 = 10\n",
    "cdef int variable_2 = 20\n",
    "print &variable_1\n",
    "print &variable_2"
   ]
  },
  {
   "cell_type": "markdown",
   "metadata": {
    "collapsed": true
   },
   "source": [
    "# So what exactly are pointers?\n",
    "A pointer is a variable whose value is the memory address of another variable. Changing the pointer changes the value at the memory address.\n",
    "\n",
    "To declare a pointer, use the following syntax:"
   ]
  },
  {
   "cell_type": "code",
   "execution_count": 3,
   "metadata": {
    "collapsed": false
   },
   "outputs": [],
   "source": [
    "%%cython\n",
    "cdef int* integer_pointer # declares a pointer to an integer\n",
    "cdef double* double_pointer # declares a pointer to a double\n",
    "cdef float* float_pointer # declares a pointer to a float\n",
    "cdef char* char_pointer # declares a pointer to a char"
   ]
  },
  {
   "cell_type": "markdown",
   "metadata": {},
   "source": [
    "While these pointers all point to memory addresses, the variable or constant at the memory address the pointer is pointing to are all of different types."
   ]
  },
  {
   "cell_type": "markdown",
   "metadata": {},
   "source": [
    "# How do I use pointers?\n",
    "Pointers are generally used to modify the value of a variable or constant that it points to. In C, this is done through use of the `*` operator, which returns the value of the variable or constant specified by the pointer type. However, the `*` operator already has a meaning in Python -- unpacking tuples. As a result, assigning and accessing pointers uses an index notation similar to lists."
   ]
  },
  {
   "cell_type": "code",
   "execution_count": 4,
   "metadata": {
    "collapsed": false
   },
   "outputs": [
    {
     "name": "stdout",
     "output_type": "stream",
     "text": [
      "Value of variable set to pointer: 1\n",
      "Value of original variable: 1\n",
      "Value of variable set to pointer: 2\n",
      "Value of original variable: 2\n"
     ]
    }
   ],
   "source": [
    "%%cython\n",
    "# define a variable to modify\n",
    "cdef int to_increment = 0\n",
    "# define an int pointer with the * operator\n",
    "cdef int* incrementor\n",
    "\n",
    "# store the address of the variable in the pointer\n",
    "incrementor = &to_increment\n",
    "\n",
    "# access the value at the pointer by using indexing notation and \n",
    "# increment the value the pointer points at.\n",
    "incrementor[0] += 1\n",
    "print \"Value of variable set to pointer: {}\".format(incrementor[0])\n",
    "print \"Value of original variable: {}\".format(to_increment)\n",
    "\n",
    "# increment the original variable\n",
    "to_increment += 1\n",
    "print \"Value of variable set to pointer: {}\".format(incrementor[0])\n",
    "print \"Value of original variable: {}\".format(to_increment)"
   ]
  },
  {
   "cell_type": "markdown",
   "metadata": {},
   "source": [
    "As you can see, modifying the value of what the pointer was pointing at (by adding one) changed the value of the original variable, and changes to the original variable propogated to affect the value that the pointer was pointing at."
   ]
  },
  {
   "cell_type": "code",
   "execution_count": null,
   "metadata": {
    "collapsed": true
   },
   "outputs": [],
   "source": []
  }
 ],
 "metadata": {
  "kernelspec": {
   "display_name": "Python 2",
   "language": "python",
   "name": "python2"
  },
  "language_info": {
   "codemirror_mode": {
    "name": "ipython",
    "version": 2
   },
   "file_extension": ".py",
   "mimetype": "text/x-python",
   "name": "python",
   "nbconvert_exporter": "python",
   "pygments_lexer": "ipython2",
   "version": "2.7.10"
  }
 },
 "nbformat": 4,
 "nbformat_minor": 0
}
